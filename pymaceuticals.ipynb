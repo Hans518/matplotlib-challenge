{
 "cells": [
  {
   "cell_type": "markdown",
   "metadata": {},
   "source": [
    "## Observations and Insights"
   ]
  },
  {
   "cell_type": "markdown",
   "metadata": {},
   "source": []
  },
  {
   "cell_type": "markdown",
   "metadata": {},
   "source": [
    "## Dependencies and starter code"
   ]
  },
  {
   "cell_type": "code",
   "execution_count": 1,
   "metadata": {},
   "outputs": [
    {
     "data": {
      "text/html": [
       "<div>\n",
       "<style scoped>\n",
       "    .dataframe tbody tr th:only-of-type {\n",
       "        vertical-align: middle;\n",
       "    }\n",
       "\n",
       "    .dataframe tbody tr th {\n",
       "        vertical-align: top;\n",
       "    }\n",
       "\n",
       "    .dataframe thead th {\n",
       "        text-align: right;\n",
       "    }\n",
       "</style>\n",
       "<table border=\"1\" class=\"dataframe\">\n",
       "  <thead>\n",
       "    <tr style=\"text-align: right;\">\n",
       "      <th></th>\n",
       "      <th>Mouse ID</th>\n",
       "      <th>Timepoint</th>\n",
       "      <th>Tumor Volume (mm3)</th>\n",
       "      <th>Metastatic Sites</th>\n",
       "      <th>Drug Regimen</th>\n",
       "      <th>Sex</th>\n",
       "      <th>Age_months</th>\n",
       "      <th>Weight (g)</th>\n",
       "    </tr>\n",
       "  </thead>\n",
       "  <tbody>\n",
       "    <tr>\n",
       "      <td>0</td>\n",
       "      <td>b128</td>\n",
       "      <td>0</td>\n",
       "      <td>45.000000</td>\n",
       "      <td>0</td>\n",
       "      <td>Capomulin</td>\n",
       "      <td>Female</td>\n",
       "      <td>9</td>\n",
       "      <td>22</td>\n",
       "    </tr>\n",
       "    <tr>\n",
       "      <td>1</td>\n",
       "      <td>b128</td>\n",
       "      <td>5</td>\n",
       "      <td>45.651331</td>\n",
       "      <td>0</td>\n",
       "      <td>Capomulin</td>\n",
       "      <td>Female</td>\n",
       "      <td>9</td>\n",
       "      <td>22</td>\n",
       "    </tr>\n",
       "    <tr>\n",
       "      <td>2</td>\n",
       "      <td>b128</td>\n",
       "      <td>10</td>\n",
       "      <td>43.270852</td>\n",
       "      <td>0</td>\n",
       "      <td>Capomulin</td>\n",
       "      <td>Female</td>\n",
       "      <td>9</td>\n",
       "      <td>22</td>\n",
       "    </tr>\n",
       "    <tr>\n",
       "      <td>3</td>\n",
       "      <td>b128</td>\n",
       "      <td>15</td>\n",
       "      <td>43.784893</td>\n",
       "      <td>0</td>\n",
       "      <td>Capomulin</td>\n",
       "      <td>Female</td>\n",
       "      <td>9</td>\n",
       "      <td>22</td>\n",
       "    </tr>\n",
       "    <tr>\n",
       "      <td>4</td>\n",
       "      <td>b128</td>\n",
       "      <td>20</td>\n",
       "      <td>42.731552</td>\n",
       "      <td>0</td>\n",
       "      <td>Capomulin</td>\n",
       "      <td>Female</td>\n",
       "      <td>9</td>\n",
       "      <td>22</td>\n",
       "    </tr>\n",
       "    <tr>\n",
       "      <td>...</td>\n",
       "      <td>...</td>\n",
       "      <td>...</td>\n",
       "      <td>...</td>\n",
       "      <td>...</td>\n",
       "      <td>...</td>\n",
       "      <td>...</td>\n",
       "      <td>...</td>\n",
       "      <td>...</td>\n",
       "    </tr>\n",
       "    <tr>\n",
       "      <td>1888</td>\n",
       "      <td>m601</td>\n",
       "      <td>25</td>\n",
       "      <td>33.118756</td>\n",
       "      <td>1</td>\n",
       "      <td>Capomulin</td>\n",
       "      <td>Male</td>\n",
       "      <td>22</td>\n",
       "      <td>17</td>\n",
       "    </tr>\n",
       "    <tr>\n",
       "      <td>1889</td>\n",
       "      <td>m601</td>\n",
       "      <td>30</td>\n",
       "      <td>31.758275</td>\n",
       "      <td>1</td>\n",
       "      <td>Capomulin</td>\n",
       "      <td>Male</td>\n",
       "      <td>22</td>\n",
       "      <td>17</td>\n",
       "    </tr>\n",
       "    <tr>\n",
       "      <td>1890</td>\n",
       "      <td>m601</td>\n",
       "      <td>35</td>\n",
       "      <td>30.834357</td>\n",
       "      <td>1</td>\n",
       "      <td>Capomulin</td>\n",
       "      <td>Male</td>\n",
       "      <td>22</td>\n",
       "      <td>17</td>\n",
       "    </tr>\n",
       "    <tr>\n",
       "      <td>1891</td>\n",
       "      <td>m601</td>\n",
       "      <td>40</td>\n",
       "      <td>31.378045</td>\n",
       "      <td>1</td>\n",
       "      <td>Capomulin</td>\n",
       "      <td>Male</td>\n",
       "      <td>22</td>\n",
       "      <td>17</td>\n",
       "    </tr>\n",
       "    <tr>\n",
       "      <td>1892</td>\n",
       "      <td>m601</td>\n",
       "      <td>45</td>\n",
       "      <td>28.430964</td>\n",
       "      <td>1</td>\n",
       "      <td>Capomulin</td>\n",
       "      <td>Male</td>\n",
       "      <td>22</td>\n",
       "      <td>17</td>\n",
       "    </tr>\n",
       "  </tbody>\n",
       "</table>\n",
       "<p>1893 rows × 8 columns</p>\n",
       "</div>"
      ],
      "text/plain": [
       "     Mouse ID  Timepoint  Tumor Volume (mm3)  Metastatic Sites Drug Regimen  \\\n",
       "0        b128          0           45.000000                 0    Capomulin   \n",
       "1        b128          5           45.651331                 0    Capomulin   \n",
       "2        b128         10           43.270852                 0    Capomulin   \n",
       "3        b128         15           43.784893                 0    Capomulin   \n",
       "4        b128         20           42.731552                 0    Capomulin   \n",
       "...       ...        ...                 ...               ...          ...   \n",
       "1888     m601         25           33.118756                 1    Capomulin   \n",
       "1889     m601         30           31.758275                 1    Capomulin   \n",
       "1890     m601         35           30.834357                 1    Capomulin   \n",
       "1891     m601         40           31.378045                 1    Capomulin   \n",
       "1892     m601         45           28.430964                 1    Capomulin   \n",
       "\n",
       "         Sex  Age_months  Weight (g)  \n",
       "0     Female           9          22  \n",
       "1     Female           9          22  \n",
       "2     Female           9          22  \n",
       "3     Female           9          22  \n",
       "4     Female           9          22  \n",
       "...      ...         ...         ...  \n",
       "1888    Male          22          17  \n",
       "1889    Male          22          17  \n",
       "1890    Male          22          17  \n",
       "1891    Male          22          17  \n",
       "1892    Male          22          17  \n",
       "\n",
       "[1893 rows x 8 columns]"
      ]
     },
     "execution_count": 1,
     "metadata": {},
     "output_type": "execute_result"
    }
   ],
   "source": [
    "# Dependencies and Setup\n",
    "import matplotlib.pyplot as plt\n",
    "import pandas as pd\n",
    "import scipy.stats as st\n",
    "import numpy as np\n",
    "from scipy.stats import linregress\n",
    "\n",
    "# Study data files\n",
    "mouse_metadata = \"data/Mouse_metadata.csv\"\n",
    "study_results = \"data/Study_results.csv\"\n",
    "\n",
    "# Read the mouse data and the study results\n",
    "mouse_metadata = pd.read_csv(mouse_metadata)\n",
    "study_results = pd.read_csv(study_results)\n",
    "\n",
    "# Combine the data into a single dataset\n",
    "\n",
    "mouse_study = pd.merge(study_results, mouse_metadata, how=\"right\", on=[\"Mouse ID\", \"Mouse ID\"] )\n",
    "mouse_study"
   ]
  },
  {
   "cell_type": "markdown",
   "metadata": {},
   "source": [
    "## Summary statistics"
   ]
  },
  {
   "cell_type": "code",
   "execution_count": 19,
   "metadata": {},
   "outputs": [
    {
     "name": "stdout",
     "output_type": "stream",
     "text": [
      "The mean tumor_volume is 50.44838063133656 across all drug regimens\n",
      "The median tumor_volume is 48.95147442 across all drug regimens\n",
      "The tumor_volume variance is 79.07427999025764 across all drug regimens\n",
      "The tumor_volume standard deviation is 8.8923720114634 across all drug regimens\n"
     ]
    },
    {
     "data": {
      "text/html": [
       "<div>\n",
       "<style scoped>\n",
       "    .dataframe tbody tr th:only-of-type {\n",
       "        vertical-align: middle;\n",
       "    }\n",
       "\n",
       "    .dataframe tbody tr th {\n",
       "        vertical-align: top;\n",
       "    }\n",
       "\n",
       "    .dataframe thead th {\n",
       "        text-align: right;\n",
       "    }\n",
       "</style>\n",
       "<table border=\"1\" class=\"dataframe\">\n",
       "  <thead>\n",
       "    <tr style=\"text-align: right;\">\n",
       "      <th></th>\n",
       "      <th>Tumor Volume mean</th>\n",
       "      <th>Tumor Volume median</th>\n",
       "      <th>Tumor Volume variance</th>\n",
       "      <th>Tumor Volume std</th>\n",
       "      <th>Tumor Volume sem</th>\n",
       "    </tr>\n",
       "    <tr>\n",
       "      <th>Drug Regimen</th>\n",
       "      <th></th>\n",
       "      <th></th>\n",
       "      <th></th>\n",
       "      <th></th>\n",
       "      <th></th>\n",
       "    </tr>\n",
       "  </thead>\n",
       "  <tbody>\n",
       "    <tr>\n",
       "      <td>Capomulin</td>\n",
       "      <td>40.675741</td>\n",
       "      <td>41.557809</td>\n",
       "      <td>24.947764</td>\n",
       "      <td>4.994774</td>\n",
       "      <td>0.329346</td>\n",
       "    </tr>\n",
       "    <tr>\n",
       "      <td>Ceftamin</td>\n",
       "      <td>52.591172</td>\n",
       "      <td>51.776157</td>\n",
       "      <td>39.290177</td>\n",
       "      <td>6.268188</td>\n",
       "      <td>0.469821</td>\n",
       "    </tr>\n",
       "    <tr>\n",
       "      <td>Infubinol</td>\n",
       "      <td>52.884795</td>\n",
       "      <td>51.820584</td>\n",
       "      <td>43.128684</td>\n",
       "      <td>6.567243</td>\n",
       "      <td>0.492236</td>\n",
       "    </tr>\n",
       "    <tr>\n",
       "      <td>Ketapril</td>\n",
       "      <td>55.235638</td>\n",
       "      <td>53.698743</td>\n",
       "      <td>68.553577</td>\n",
       "      <td>8.279709</td>\n",
       "      <td>0.603860</td>\n",
       "    </tr>\n",
       "    <tr>\n",
       "      <td>Naftisol</td>\n",
       "      <td>54.331565</td>\n",
       "      <td>52.509285</td>\n",
       "      <td>66.173479</td>\n",
       "      <td>8.134708</td>\n",
       "      <td>0.596466</td>\n",
       "    </tr>\n",
       "    <tr>\n",
       "      <td>Placebo</td>\n",
       "      <td>54.033581</td>\n",
       "      <td>52.288934</td>\n",
       "      <td>61.168083</td>\n",
       "      <td>7.821003</td>\n",
       "      <td>0.581331</td>\n",
       "    </tr>\n",
       "    <tr>\n",
       "      <td>Propriva</td>\n",
       "      <td>52.322552</td>\n",
       "      <td>50.854632</td>\n",
       "      <td>42.351070</td>\n",
       "      <td>6.507770</td>\n",
       "      <td>0.512884</td>\n",
       "    </tr>\n",
       "    <tr>\n",
       "      <td>Ramicane</td>\n",
       "      <td>40.216745</td>\n",
       "      <td>40.673236</td>\n",
       "      <td>23.486704</td>\n",
       "      <td>4.846308</td>\n",
       "      <td>0.320955</td>\n",
       "    </tr>\n",
       "    <tr>\n",
       "      <td>Stelasyn</td>\n",
       "      <td>54.233149</td>\n",
       "      <td>52.431737</td>\n",
       "      <td>59.450562</td>\n",
       "      <td>7.710419</td>\n",
       "      <td>0.573111</td>\n",
       "    </tr>\n",
       "    <tr>\n",
       "      <td>Zoniferol</td>\n",
       "      <td>53.236507</td>\n",
       "      <td>51.818479</td>\n",
       "      <td>48.533355</td>\n",
       "      <td>6.966589</td>\n",
       "      <td>0.516398</td>\n",
       "    </tr>\n",
       "  </tbody>\n",
       "</table>\n",
       "</div>"
      ],
      "text/plain": [
       "              Tumor Volume mean  Tumor Volume median  Tumor Volume variance  \\\n",
       "Drug Regimen                                                                  \n",
       "Capomulin             40.675741            41.557809              24.947764   \n",
       "Ceftamin              52.591172            51.776157              39.290177   \n",
       "Infubinol             52.884795            51.820584              43.128684   \n",
       "Ketapril              55.235638            53.698743              68.553577   \n",
       "Naftisol              54.331565            52.509285              66.173479   \n",
       "Placebo               54.033581            52.288934              61.168083   \n",
       "Propriva              52.322552            50.854632              42.351070   \n",
       "Ramicane              40.216745            40.673236              23.486704   \n",
       "Stelasyn              54.233149            52.431737              59.450562   \n",
       "Zoniferol             53.236507            51.818479              48.533355   \n",
       "\n",
       "              Tumor Volume std  Tumor Volume sem  \n",
       "Drug Regimen                                      \n",
       "Capomulin             4.994774          0.329346  \n",
       "Ceftamin              6.268188          0.469821  \n",
       "Infubinol             6.567243          0.492236  \n",
       "Ketapril              8.279709          0.603860  \n",
       "Naftisol              8.134708          0.596466  \n",
       "Placebo               7.821003          0.581331  \n",
       "Propriva              6.507770          0.512884  \n",
       "Ramicane              4.846308          0.320955  \n",
       "Stelasyn              7.710419          0.573111  \n",
       "Zoniferol             6.966589          0.516398  "
      ]
     },
     "execution_count": 19,
     "metadata": {},
     "output_type": "execute_result"
    }
   ],
   "source": [
    "# Generate a summary statistics table of mean, median, variance, standard deviation, and SEM of the tumor volume for each regimen\n",
    "\n",
    "#get summary stats for the whole dataset\n",
    "tumor_volume = mouse_study[\"Tumor Volume (mm3)\"]\n",
    "drug_regimen = mouse_study[\"Drug Regimen\"]\n",
    "mean_tumor = np.mean(tumor_volume)\n",
    "median_tumor = np.median(tumor_volume)\n",
    "tumor_variance = np.var(tumor_volume,ddof = 0)\n",
    "tumor_sd = np.std(tumor_volume,ddof = 0)\n",
    "\n",
    "print(f\"The mean tumor_volume is {mean_tumor} across all drug regimens\")\n",
    "print(f\"The median tumor_volume is {median_tumor} across all drug regimens\")\n",
    "print(f\"The tumor_volume variance is {tumor_variance} across all drug regimens\")\n",
    "print(f\"The tumor_volume standard deviation is {tumor_sd} across all drug regimens\")\n",
    "\n",
    "# summary stat breakdown by Drug Regimen\n",
    "mice = mouse_study.groupby([\"Drug Regimen\"])\n",
    "mean_mouse = mice.mean()\n",
    "mean_mouse = mean_mouse.drop([\"Timepoint\", \"Metastatic Sites\", \"Age_months\", \"Weight (g)\"], axis=1)\n",
    "mean_mouse = mean_mouse.rename(columns={\"Tumor Volume (mm3)\": \"Tumor Volume mean\"})\n",
    "median_mouse = mice.median()\n",
    "median_mouse = median_mouse.drop([\"Timepoint\", \"Metastatic Sites\", \"Age_months\", \"Weight (g)\"], axis=1)\n",
    "median_mouse = median_mouse.rename(columns={\"Tumor Volume (mm3)\": \"Tumor Volume median\"})\n",
    "var_mouse = mice.var()\n",
    "var_mouse = var_mouse.drop([\"Timepoint\", \"Metastatic Sites\", \"Age_months\", \"Weight (g)\"], axis=1)\n",
    "var_mouse = var_mouse.rename(columns={\"Tumor Volume (mm3)\": \"Tumor Volume variance\"})\n",
    "std_mouse = mice.std()\n",
    "std_mouse = std_mouse.drop([\"Timepoint\", \"Metastatic Sites\", \"Age_months\", \"Weight (g)\"], axis=1)\n",
    "std_mouse = std_mouse.rename(columns={\"Tumor Volume (mm3)\": \"Tumor Volume std\"})\n",
    "sem_mouse = mice.sem()\n",
    "sem_mouse = sem_mouse.drop([\"Timepoint\", \"Metastatic Sites\", \"Age_months\", \"Weight (g)\", \"Mouse ID\", \"Sex\"], axis=1)\n",
    "sem_mouse = sem_mouse.rename(columns={\"Tumor Volume (mm3)\": \"Tumor Volume sem\"})\n",
    "\n",
    "\n",
    "# Merge summary stat breakdowns into on dataframe\n",
    "mouse_mean_median = pd.merge(mean_mouse, median_mouse, how=\"right\", on=[\"Drug Regimen\"])\n",
    "mouse_var_std = pd.merge(var_mouse, std_mouse, how=\"right\", on=[\"Drug Regimen\"])\n",
    "mouse_sem_df = pd.merge(mouse_var_std, sem_mouse, how=\"right\", on=[\"Drug Regimen\"])\n",
    "mouse_df = pd.merge(mouse_mean_median, mouse_sem_df, how=\"right\", on=[\"Drug Regimen\"])\n",
    "mouse_df\n",
    "\n"
   ]
  },
  {
   "cell_type": "markdown",
   "metadata": {},
   "source": [
    "## Bar plots"
   ]
  },
  {
   "cell_type": "code",
   "execution_count": 3,
   "metadata": {},
   "outputs": [
    {
     "data": {
      "image/png": "[encoded data removed]",
      "text/plain": [
       "<Figure size 432x288 with 1 Axes>"
      ]
     },
     "metadata": {
      "needs_background": "light"
     },
     "output_type": "display_data"
    }
   ],
   "source": [
    "# Generate a bar plot showing number of data points for each treatment regimen using pandas\n",
    "\n",
    "tumor_df = mouse_study[[\"Tumor Volume (mm3)\", \"Drug Regimen\"]].groupby(\"Drug Regimen\")\n",
    "\n",
    "drug_count = tumor_df[\"Drug Regimen\"].count()\n",
    "drug_name = drug_regimen.unique()\n",
    "\n",
    "count_chart = pd.DataFrame({\"Drug\" : drug_name, \"Data Points\": drug_count})\n",
    "chart = count_chart.plot.bar(x = \"Drug\", y=\"Data Points\")\n"
   ]
  },
  {
   "cell_type": "code",
   "execution_count": 4,
   "metadata": {},
   "outputs": [
    {
     "data": {
      "image/png": "[encoded data removed]",
      "text/plain": [
       "<Figure size 432x288 with 1 Axes>"
      ]
     },
     "metadata": {
      "needs_background": "light"
     },
     "output_type": "display_data"
    }
   ],
   "source": [
    "# Generate a bar plot showing number of data points for each treatment regimen using pyplot\n",
    "\n",
    "tumor_df = mouse_study[[\"Tumor Volume (mm3)\", \"Drug Regimen\"]].groupby(\"Drug Regimen\")\n",
    "\n",
    "drug_count = tumor_df[\"Drug Regimen\"].count()\n",
    "\n",
    "count_chart = drug_count.plot(kind='bar')\n",
    "count_chart.set_xlabel(\"Drug Regimen\")\n",
    "count_chart.set_ylabel(\"Number of data points\")\n",
    "\n",
    "plt.show()\n"
   ]
  },
  {
   "cell_type": "markdown",
   "metadata": {},
   "source": [
    "## Pie plots"
   ]
  },
  {
   "cell_type": "code",
   "execution_count": 5,
   "metadata": {},
   "outputs": [
    {
     "data": {
      "text/plain": [
       "Text(0, 0.5, 'Female vs Male')"
      ]
     },
     "execution_count": 5,
     "metadata": {},
     "output_type": "execute_result"
    },
    {
     "data": {
      "image/png": "[encoded data removed]",
      "text/plain": [
       "<Figure size 504x504 with 1 Axes>"
      ]
     },
     "metadata": {},
     "output_type": "display_data"
    }
   ],
   "source": [
    "# Generate a pie plot showing the distribution of female versus male mice using pandas\n",
    "\n",
    "#Split data into groups based on gender.\n",
    "gender_groups = mouse_study[\"Sex\"].value_counts()\n",
    "\n",
    "m = [sex for sex in mouse_study[\"Sex\"] if sex == \"Male\"]\n",
    "male = len(m)\n",
    "f = [sex for sex in mouse_study[\"Sex\"] if sex == \"Female\"]\n",
    "female = len(f)\n",
    "\n",
    "labels = [\"Female\", \"Male\"]\n",
    "sizes = [female, male]\n",
    "colors = [\"pink\", \"lightskyblue\"]\n",
    "explode = (0.5, 0)\n",
    "\n",
    "\n",
    "gender_pie = gender_groups.plot(kind=\"pie\", y=labels, figsize=(7, 7), colors=colors, startangle=45, title=(\"Datapoints by gender\"), legend=True)\n",
    "gender_pie.set_ylabel(\"Female vs Male\")\n",
    "\n",
    "#plt.show()\n",
    "#plt.tight_layout()\n",
    "#plt.axis(\"equal\")\n",
    "\n",
    "\n"
   ]
  },
  {
   "cell_type": "code",
   "execution_count": 6,
   "metadata": {},
   "outputs": [
    {
     "data": {
      "image/png": "[encoded data removed]",
      "text/plain": [
       "<Figure size 432x288 with 1 Axes>"
      ]
     },
     "metadata": {},
     "output_type": "display_data"
    }
   ],
   "source": [
    "# Generate a pie plot showing the distribution of female versus male mice using pyplot\n",
    "\n",
    "\n",
    "\n",
    "plt.pie(sizes, labels=labels, colors=colors, autopct=\"%1.1f%%\", shadow=True, startangle=45)\n",
    "plt.axis(\"equal\")\n",
    "plt.show()\n",
    "\n"
   ]
  },
  {
   "cell_type": "markdown",
   "metadata": {},
   "source": [
    "## Quartiles, outliers and boxplots"
   ]
  },
  {
   "cell_type": "code",
   "execution_count": 7,
   "metadata": {},
   "outputs": [
    {
     "name": "stdout",
     "output_type": "stream",
     "text": [
      "The lower quartile of tumor volume is: 45.5098442875 mm3\n",
      "The upper quartile of tumor volume is: 59.930261755000004 mm3\n",
      "The interquartile range of tumor volume is: 14.420417467500002 mm3\n",
      "The the median of tumor volume is: 46.860058175 mm3\n",
      "Values below 23.87921808625 mm3 could be outliers.\n",
      "Values above 81.56088795625001 mm3 could be outliers.\n"
     ]
    }
   ],
   "source": [
    "# Calculate the final tumor volume of each mouse across four of the most promising treatment regimens. Calculate the IQR and quantitatively determine if there are any potential outliers. \n",
    "\n",
    "mouse_tumor = mouse_study.groupby([\"Mouse ID\"]).max(level=\"Timepoint\")\n",
    "\n",
    "treatments = mouse_tumor.loc[(mouse_tumor[\"Drug Regimen\"] == \"Ramicane\") | (mouse_tumor[\"Drug Regimen\"] == \"Capomulin\") |\n",
    "                          (mouse_tumor[\"Drug Regimen\"] == \"Infubinol\") | (mouse_tumor[\"Drug Regimen\"] == \"Ceftamin\") ]\n",
    "\n",
    "treatments_df = treatments[\"Tumor Volume (mm3)\"]\n",
    "\n",
    "quartiles = treatments_df.quantile([.25,.5,.75])\n",
    "lowerq = quartiles[0.25]\n",
    "upperq = quartiles[0.75]\n",
    "iqr = upperq-lowerq\n",
    "\n",
    "print(f\"The lower quartile of tumor volume is: {lowerq} mm3\")\n",
    "print(f\"The upper quartile of tumor volume is: {upperq} mm3\")\n",
    "print(f\"The interquartile range of tumor volume is: {iqr} mm3\")\n",
    "print(f\"The the median of tumor volume is: {quartiles[0.5]} mm3\")\n",
    "\n",
    "lower_bound = lowerq - (1.5*iqr)\n",
    "upper_bound = upperq + (1.5*iqr)\n",
    "print(f\"Values below {lower_bound} mm3 could be outliers.\")\n",
    "print(f\"Values above {upper_bound} mm3 could be outliers.\")"
   ]
  },
  {
   "cell_type": "code",
   "execution_count": 8,
   "metadata": {},
   "outputs": [
    {
     "data": {
      "image/png": "[encoded data removed]",
      "text/plain": [
       "<Figure size 432x288 with 1 Axes>"
      ]
     },
     "metadata": {
      "needs_background": "light"
     },
     "output_type": "display_data"
    }
   ],
   "source": [
    "# Generate a box plot of the final tumor volume of each mouse across four regimens of interest\n",
    "\n",
    "fig1, ax1 = plt.subplots()\n",
    "ax1.set_title('Tumor Volume')\n",
    "ax1.set_ylabel(\"Volume (mm3)\")\n",
    "ax1.boxplot(treatments_df)\n",
    "plt.show()"
   ]
  },
  {
   "cell_type": "markdown",
   "metadata": {},
   "source": [
    "## Line and scatter plots"
   ]
  },
  {
   "cell_type": "code",
   "execution_count": 9,
   "metadata": {},
   "outputs": [
    {
     "data": {
      "text/plain": [
       "[<matplotlib.lines.Line2D at 0x191503c0988>]"
      ]
     },
     "execution_count": 9,
     "metadata": {},
     "output_type": "execute_result"
    },
    {
     "data": {
      "image/png": "[encoded data removed]",
      "text/plain": [
       "<Figure size 432x288 with 1 Axes>"
      ]
     },
     "metadata": {
      "needs_background": "light"
     },
     "output_type": "display_data"
    }
   ],
   "source": [
    "# Generate a line plot of time point versus tumor volume for a mouse treated with Capomulin\n",
    "\n",
    "capomulin_b128 = mouse_study.loc[(mouse_study[\"Drug Regimen\"] == \"Capomulin\") & (mouse_study[\"Mouse ID\"] == \"b128\")]\n",
    "volume = capomulin_b128[\"Tumor Volume (mm3)\"]\n",
    "x_axis = np.arange(0,50,5)\n",
    "\n",
    "plt.title(\"Tumor size over time - b128\")\n",
    "plt.xlabel(\"Timepoint\")\n",
    "plt.ylabel(\"Tumor size (mm3)\")\n",
    "plt.xlim(0, 45)\n",
    "plt.grid()\n",
    "plt.plot(x_axis, volume)\n"
   ]
  },
  {
   "cell_type": "code",
   "execution_count": 14,
   "metadata": {
    "scrolled": true
   },
   "outputs": [
    {
     "name": "stdout",
     "output_type": "stream",
     "text": [
      "The r-squared is: 0.8419363424694718\n"
     ]
    },
    {
     "data": {
      "text/plain": [
       "<function matplotlib.pyplot.show(*args, **kw)>"
      ]
     },
     "execution_count": 14,
     "metadata": {},
     "output_type": "execute_result"
    },
    {
     "data": {
      "image/png": "[encoded data removed]",
      "text/plain": [
       "<Figure size 432x288 with 1 Axes>"
      ]
     },
     "metadata": {
      "needs_background": "light"
     },
     "output_type": "display_data"
    }
   ],
   "source": [
    "# Generate a scatter plot of mouse weight versus average tumor volume for the Capomulin regimen\n",
    "\n",
    "capomulin = mouse_study.loc[mouse_study[\"Drug Regimen\"] == \"Capomulin\"].groupby([\"Mouse ID\"]).mean()\n",
    "\n",
    "x_values= capomulin[\"Weight (g)\"]\n",
    "y_values= capomulin[\"Tumor Volume (mm3)\"]\n",
    "plt.scatter(x_values, y_values)\n",
    "\n",
    "(slope, intercept, rvalue, pvalue, stderr) = linregress(x_values, y_values)\n",
    "regress_values = x_values * slope + intercept\n",
    "line_eq = \"y = \" + str(round(slope,2)) + \"x + \" + str(round(intercept,2))\n",
    "\n",
    "plt.scatter(x_values, y_values)\n",
    "\n",
    "plt.plot(x_values,regress_values,\"r-\")\n",
    "\n",
    "plt.annotate(line_eq,(6,10),fontsize=10,color=\"red\")\n",
    "\n",
    "plt.xlabel(\"Mouse Weight (g)\")\n",
    "plt.ylabel(\"Tumor Volume (mm3)\")\n",
    "\n",
    "print(f\"The r-squared is: {rvalue}\")\n",
    "plt.show"
   ]
  },
  {
   "cell_type": "code",
   "execution_count": null,
   "metadata": {},
   "outputs": [],
   "source": [
    "# Calculate the correlation coefficient and linear regression model for mouse weight and average tumor volume for the Capomulin regimen\n",
    "\n"
   ]
  },
  {
   "cell_type": "code",
   "execution_count": null,
   "metadata": {},
   "outputs": [],
   "source": []
  }
 ],
 "metadata": {
  "anaconda-cloud": {},
  "kernelspec": {
   "display_name": "Python 3",
   "language": "python",
   "name": "python3"
  },
  "language_info": {
   "codemirror_mode": {
    "name": "ipython",
    "version": 3
   },
   "file_extension": ".py",
   "mimetype": "text/x-python",
   "name": "python",
   "nbconvert_exporter": "python",
   "pygments_lexer": "ipython3",
   "version": "3.7.4"
  }
 },
 "nbformat": 4,
 "nbformat_minor": 2
}
